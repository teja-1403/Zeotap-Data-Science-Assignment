{
  "nbformat": 4,
  "nbformat_minor": 0,
  "metadata": {
    "colab": {
      "provenance": [],
      "authorship_tag": "ABX9TyPUxDnF9dccnA+tXm61qSpy",
      "include_colab_link": true
    },
    "kernelspec": {
      "name": "python3",
      "display_name": "Python 3"
    },
    "language_info": {
      "name": "python"
    }
  },
  "cells": [
    {
      "cell_type": "markdown",
      "metadata": {
        "id": "view-in-github",
        "colab_type": "text"
      },
      "source": [
        "<a href=\"https://colab.research.google.com/github/teja-1403/Zeotap-Data-Science-Assignment/blob/main/SaiTeja_TBV_Lookalike.ipynb\" target=\"_parent\"><img src=\"https://colab.research.google.com/assets/colab-badge.svg\" alt=\"Open In Colab\"/></a>"
      ]
    },
    {
      "cell_type": "code",
      "execution_count": 1,
      "metadata": {
        "id": "j1rXJiEN5Hw9"
      },
      "outputs": [],
      "source": [
        "import pandas as pd\n",
        "from sklearn.preprocessing import OneHotEncoder\n",
        "from sklearn.metrics.pairwise import cosine_similarity"
      ]
    },
    {
      "cell_type": "code",
      "source": [
        "# Load datasets\n",
        "customers = pd.read_csv(\"/content/Customers.csv\")\n",
        "products = pd.read_csv(\"/content/Products.csv\")\n",
        "transactions = pd.read_csv(\"/content/Transactions.csv\")"
      ],
      "metadata": {
        "id": "A5fWnbdv5Ojy"
      },
      "execution_count": 2,
      "outputs": []
    },
    {
      "cell_type": "code",
      "source": [
        "# Step 1: Merge datasets\n",
        "transactions = transactions.merge(customers, on=\"CustomerID\", how=\"left\")\n",
        "transactions = transactions.merge(products, on=\"ProductID\", how=\"left\")"
      ],
      "metadata": {
        "id": "pKFBT68C5ZgO"
      },
      "execution_count": 3,
      "outputs": []
    },
    {
      "cell_type": "code",
      "source": [
        "# Step 2: Feature Engineering\n",
        "# Aggregate transaction history to create customer-product purchase matrix\n",
        "customer_product_matrix = transactions.pivot_table(\n",
        "    index=\"CustomerID\",\n",
        "    columns=\"ProductID\",\n",
        "    values=\"Quantity\",\n",
        "    aggfunc=\"sum\",\n",
        "    fill_value=0\n",
        ")"
      ],
      "metadata": {
        "id": "K2VngeWo5bTr"
      },
      "execution_count": 4,
      "outputs": []
    },
    {
      "cell_type": "code",
      "source": [
        "# Add profile information (Region, SignupDate)\n",
        "profile_data = customers.set_index(\"CustomerID\")[[\"Region\", \"SignupDate\"]]\n",
        "profile_data[\"SignupDate\"] = pd.to_datetime(profile_data[\"SignupDate\"]).astype(int)  # Convert signup date to numerical format\n",
        "ohe = OneHotEncoder()\n",
        "region_encoded = ohe.fit_transform(profile_data[[\"Region\"]]).toarray()\n",
        "region_df = pd.DataFrame(region_encoded, index=profile_data.index, columns=ohe.get_feature_names_out([\"Region\"]))"
      ],
      "metadata": {
        "id": "EA9221S-5eI9"
      },
      "execution_count": 5,
      "outputs": []
    },
    {
      "cell_type": "code",
      "source": [
        "# Combine product purchase data and profile data\n",
        "combined_features = pd.concat([customer_product_matrix, region_df, profile_data[[\"SignupDate\"]]], axis=1)\n",
        "combined_features = combined_features.fillna(0)  # Replace NaN values with 0"
      ],
      "metadata": {
        "id": "r_vEE8K95gsh"
      },
      "execution_count": 9,
      "outputs": []
    },
    {
      "cell_type": "code",
      "source": [
        "# Step 3: Calculate Cosine Similarity\n",
        "similarity_matrix = cosine_similarity(combined_features)\n",
        "similarity_df = pd.DataFrame(similarity_matrix, index=combined_features.index, columns=combined_features.index)"
      ],
      "metadata": {
        "id": "DD81mwPK5jHO"
      },
      "execution_count": 10,
      "outputs": []
    },
    {
      "cell_type": "code",
      "source": [
        "# Step 4: Get Top 3 Similar Customers for C0001 - C0020\n",
        "lookalike_results = {}\n",
        "for customer_id in customers[\"CustomerID\"].head(20):  # First 20 customers (C0001 - C0020)\n",
        "    similar_customers = (\n",
        "        similarity_df[customer_id]\n",
        "        .drop(index=customer_id)  # Exclude the customer itself\n",
        "        .sort_values(ascending=False)  # Sort by similarity score\n",
        "        .head(3)  # Top 3 similar customers\n",
        "    )\n",
        "    lookalike_results[customer_id] = list(similar_customers.items())"
      ],
      "metadata": {
        "id": "Y-IQhWkU5lNF"
      },
      "execution_count": 11,
      "outputs": []
    },
    {
      "cell_type": "code",
      "source": [
        "# Step 5: Save Lookalike Results to CSV\n",
        "lookalike_output = []\n",
        "for cust_id, similar_custs in lookalike_results.items():\n",
        "    lookalike_output.append({\n",
        "        \"cust_id\": cust_id,\n",
        "        \"similar_customers\": [\n",
        "            {\"similar_cust_id\": sc[0], \"score\": sc[1]} for sc in similar_custs\n",
        "        ]\n",
        "    })"
      ],
      "metadata": {
        "id": "Qz66HIF-5pWu"
      },
      "execution_count": 14,
      "outputs": []
    },
    {
      "cell_type": "code",
      "source": [
        "lookalike_df = pd.DataFrame([\n",
        "    {\"cust_id\": cust_id, \"similar_cust_id\": similar_cust_id, \"score\": score}\n",
        "    for cust_id, similar_customers in lookalike_results.items()\n",
        "    for similar_cust_id, score in similar_customers\n",
        "])\n",
        "\n",
        "# Save to CSV\n",
        "lookalike_df.to_csv(\"SaiTeja_TBV_Lookalike.csv\", index=False)\n",
        "\n",
        "print(\"Lookalike model results saved!\")"
      ],
      "metadata": {
        "colab": {
          "base_uri": "https://localhost:8080/"
        },
        "id": "2jSktVXK6GBl",
        "outputId": "98ab95bc-151d-4644-ef3f-21561ff67e43"
      },
      "execution_count": 16,
      "outputs": [
        {
          "output_type": "stream",
          "name": "stdout",
          "text": [
            "Lookalike model results saved!\n"
          ]
        }
      ]
    }
  ]
}